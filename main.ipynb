{
 "cells": [
  {
   "cell_type": "code",
   "execution_count": 48,
   "metadata": {},
   "outputs": [],
   "source": [
    "import pandas as pd\n",
    "import numpy as np\n",
    "import matplotlib as plt\n",
    "%matplotlib inline"
   ]
  },
  {
   "cell_type": "code",
   "execution_count": 49,
   "metadata": {},
   "outputs": [],
   "source": [
    "from sklearn.model_selection import train_test_split\n",
    "from sklearn.preprocessing import OneHotEncoder\n",
    "from sklearn.compose import ColumnTransformer\n",
    "from sklearn.pipeline import Pipeline\n",
    "from sklearn.impute import SimpleImputer\n",
    "from sklearn.ensemble import RandomForestRegressor\n",
    "from sklearn.metrics import mean_squared_error"
   ]
  },
  {
   "cell_type": "code",
   "execution_count": 50,
   "metadata": {},
   "outputs": [],
   "source": [
    "# データセットの読み込み\n",
    "train_data = pd.read_csv('datasets/train.csv')\n",
    "test_data = pd.read_csv('datasets/test.csv')\n",
    "venue_information = pd.read_csv('datasets/venue_information.csv')\n",
    "match_reports = pd.read_csv('datasets/match_reports.csv')"
   ]
  },
  {
   "cell_type": "code",
   "execution_count": 51,
   "metadata": {},
   "outputs": [],
   "source": [
    "\n",
    "\n",
    "def process_match_data(X):\n",
    "    \"\"\"\n",
    "    与えられたデータフレームに対して、日付および時間の情報を抽出し、新しい列として追加します。\n",
    "    元の 'match_date' と 'kick_off_time' 列は削除されます。\n",
    "    \n",
    "    Parameters:\n",
    "    X (pd.DataFrame): 'match_date' 列が datetime 型、'kick_off_time' 列が文字列型のデータフレーム。\n",
    "    \n",
    "    Returns:\n",
    "    pd.DataFrame: 新しい列 ('year', 'month', 'day', 'kick_off_hour') が追加され、元の列が削除されたデータフレーム。\n",
    "    \"\"\"\n",
    "    X['year'] = X['match_date'].dt.year\n",
    "    X['month'] = X['match_date'].dt.month\n",
    "    X['day'] = X['match_date'].dt.day\n",
    "    X['kick_off_hour'] = X['kick_off_time'].str.split(':').str[0].astype(int)\n",
    "    X = X.drop(['match_date', 'kick_off_time'], axis=1)\n",
    "    return X\n"
   ]
  },
  {
   "cell_type": "code",
   "execution_count": 52,
   "metadata": {},
   "outputs": [],
   "source": [
    "features = ['section', 'round', 'home_team', 'away_team', 'venue', 'weather', 'temperature', 'humidity', 'broadcasters', 'month', 'day', 'kick_off_hour']"
   ]
  },
  {
   "cell_type": "code",
   "execution_count": 53,
   "metadata": {},
   "outputs": [],
   "source": [
    "# カテゴリカルデータのエンコーディング\n",
    "categorical_features = ['section', 'round', 'home_team', 'away_team', 'venue', 'weather', 'broadcasters']\n",
    "numeric_features = ['temperature', 'humidity', 'month', 'day', 'kick_off_hour']"
   ]
  },
  {
   "cell_type": "code",
   "execution_count": 54,
   "metadata": {},
   "outputs": [
    {
     "data": {
      "text/html": [
       "<div>\n",
       "<style scoped>\n",
       "    .dataframe tbody tr th:only-of-type {\n",
       "        vertical-align: middle;\n",
       "    }\n",
       "\n",
       "    .dataframe tbody tr th {\n",
       "        vertical-align: top;\n",
       "    }\n",
       "\n",
       "    .dataframe thead th {\n",
       "        text-align: right;\n",
       "    }\n",
       "</style>\n",
       "<table border=\"1\" class=\"dataframe\">\n",
       "  <thead>\n",
       "    <tr style=\"text-align: right;\">\n",
       "      <th></th>\n",
       "      <th>section</th>\n",
       "      <th>round</th>\n",
       "      <th>home_team</th>\n",
       "      <th>away_team</th>\n",
       "      <th>venue</th>\n",
       "      <th>weather</th>\n",
       "      <th>temperature</th>\n",
       "      <th>humidity</th>\n",
       "      <th>broadcasters</th>\n",
       "      <th>month</th>\n",
       "      <th>day</th>\n",
       "      <th>kick_off_hour</th>\n",
       "    </tr>\n",
       "  </thead>\n",
       "  <tbody>\n",
       "    <tr>\n",
       "      <th>0</th>\n",
       "      <td>第1節</td>\n",
       "      <td>第1日</td>\n",
       "      <td>G大阪</td>\n",
       "      <td>浦和</td>\n",
       "      <td>万博記念競技場</td>\n",
       "      <td>晴</td>\n",
       "      <td>8.3</td>\n",
       "      <td>40</td>\n",
       "      <td>NHK総合/J SPORTS(録)</td>\n",
       "      <td>3</td>\n",
       "      <td>4</td>\n",
       "      <td>16</td>\n",
       "    </tr>\n",
       "    <tr>\n",
       "      <th>1</th>\n",
       "      <td>第1節</td>\n",
       "      <td>第2日</td>\n",
       "      <td>甲府</td>\n",
       "      <td>清水</td>\n",
       "      <td>山梨県小瀬スポーツ公園陸上競技場</td>\n",
       "      <td>晴</td>\n",
       "      <td>12.9</td>\n",
       "      <td>28</td>\n",
       "      <td>山梨放送/テレビ静岡(録)/J SPORTS(録)</td>\n",
       "      <td>3</td>\n",
       "      <td>5</td>\n",
       "      <td>13</td>\n",
       "    </tr>\n",
       "    <tr>\n",
       "      <th>2</th>\n",
       "      <td>第1節</td>\n",
       "      <td>第2日</td>\n",
       "      <td>FC東京</td>\n",
       "      <td>大分</td>\n",
       "      <td>味の素スタジアム</td>\n",
       "      <td>晴</td>\n",
       "      <td>12.1</td>\n",
       "      <td>35</td>\n",
       "      <td>BS-i/MXテレビ(録)/J SPORTS(録)</td>\n",
       "      <td>3</td>\n",
       "      <td>5</td>\n",
       "      <td>13</td>\n",
       "    </tr>\n",
       "    <tr>\n",
       "      <th>3</th>\n",
       "      <td>第1節</td>\n",
       "      <td>第2日</td>\n",
       "      <td>磐田</td>\n",
       "      <td>福岡</td>\n",
       "      <td>静岡スタジアムエコパ</td>\n",
       "      <td>晴</td>\n",
       "      <td>11.6</td>\n",
       "      <td>42</td>\n",
       "      <td>J SPORTS</td>\n",
       "      <td>3</td>\n",
       "      <td>5</td>\n",
       "      <td>14</td>\n",
       "    </tr>\n",
       "    <tr>\n",
       "      <th>4</th>\n",
       "      <td>第1節</td>\n",
       "      <td>第2日</td>\n",
       "      <td>名古屋</td>\n",
       "      <td>C大阪</td>\n",
       "      <td>名古屋市瑞穂陸上競技場</td>\n",
       "      <td>晴</td>\n",
       "      <td>13.1</td>\n",
       "      <td>32</td>\n",
       "      <td>スカイパーフェクTV!/NHK名古屋(録)/NHK大阪(録)/J SPORTS(録)</td>\n",
       "      <td>3</td>\n",
       "      <td>5</td>\n",
       "      <td>14</td>\n",
       "    </tr>\n",
       "  </tbody>\n",
       "</table>\n",
       "</div>"
      ],
      "text/plain": [
       "  section round home_team away_team             venue weather  temperature  \\\n",
       "0     第1節   第1日       G大阪        浦和           万博記念競技場       晴          8.3   \n",
       "1     第1節   第2日        甲府        清水  山梨県小瀬スポーツ公園陸上競技場       晴         12.9   \n",
       "2     第1節   第2日      FC東京        大分          味の素スタジアム       晴         12.1   \n",
       "3     第1節   第2日        磐田        福岡        静岡スタジアムエコパ       晴         11.6   \n",
       "4     第1節   第2日       名古屋       C大阪       名古屋市瑞穂陸上競技場       晴         13.1   \n",
       "\n",
       "   humidity                                broadcasters  month  day  \\\n",
       "0        40                           NHK総合/J SPORTS(録)      3    4   \n",
       "1        28                   山梨放送/テレビ静岡(録)/J SPORTS(録)      3    5   \n",
       "2        35                   BS-i/MXテレビ(録)/J SPORTS(録)      3    5   \n",
       "3        42                                    J SPORTS      3    5   \n",
       "4        32  スカイパーフェクTV!/NHK名古屋(録)/NHK大阪(録)/J SPORTS(録)      3    5   \n",
       "\n",
       "   kick_off_hour  \n",
       "0             16  \n",
       "1             13  \n",
       "2             13  \n",
       "3             14  \n",
       "4             14  "
      ]
     },
     "execution_count": 54,
     "metadata": {},
     "output_type": "execute_result"
    }
   ],
   "source": [
    "\n",
    "train_data['match_date'] = pd.to_datetime(train_data['match_date'])\n",
    "train_data = process_match_data(train_data)\n",
    "\n",
    "X = train_data[features]\n",
    "y = train_data['attendance']\n",
    "\n",
    "# match_dateをdatetime型に変換\n",
    "X.head()\n",
    "\n"
   ]
  },
  {
   "cell_type": "code",
   "execution_count": 55,
   "metadata": {},
   "outputs": [
    {
     "name": "stdout",
     "output_type": "stream",
     "text": [
      "<class 'pandas.core.frame.DataFrame'>\n",
      "RangeIndex: 3672 entries, 0 to 3671\n",
      "Data columns (total 12 columns):\n",
      " #   Column         Non-Null Count  Dtype  \n",
      "---  ------         --------------  -----  \n",
      " 0   section        3672 non-null   object \n",
      " 1   round          3672 non-null   object \n",
      " 2   home_team      3672 non-null   object \n",
      " 3   away_team      3672 non-null   object \n",
      " 4   venue          3672 non-null   object \n",
      " 5   weather        3672 non-null   object \n",
      " 6   temperature    3672 non-null   float64\n",
      " 7   humidity       3672 non-null   int64  \n",
      " 8   broadcasters   3672 non-null   object \n",
      " 9   month          3672 non-null   int32  \n",
      " 10  day            3672 non-null   int32  \n",
      " 11  kick_off_hour  3672 non-null   int64  \n",
      "dtypes: float64(1), int32(2), int64(2), object(7)\n",
      "memory usage: 315.7+ KB\n"
     ]
    }
   ],
   "source": [
    "X.info()"
   ]
  },
  {
   "cell_type": "code",
   "execution_count": 56,
   "metadata": {},
   "outputs": [],
   "source": [
    "preprocessor = ColumnTransformer(\n",
    "    transformers=[\n",
    "        ('num', SimpleImputer(strategy='mean'), numeric_features),\n",
    "        ('cat', OneHotEncoder(handle_unknown='ignore'), categorical_features)\n",
    "    ])"
   ]
  },
  {
   "cell_type": "code",
   "execution_count": 57,
   "metadata": {},
   "outputs": [],
   "source": [
    "X_train, X_val, y_train, y_val = train_test_split(X, y, test_size=0.2, random_state=42)"
   ]
  },
  {
   "cell_type": "code",
   "execution_count": 58,
   "metadata": {},
   "outputs": [],
   "source": [
    "# パイプラインの作成\n",
    "model = Pipeline(steps=[('preprocessor', preprocessor),\n",
    "                        ('regressor', RandomForestRegressor(n_estimators=100, random_state=42))], memory=None)"
   ]
  },
  {
   "cell_type": "code",
   "execution_count": 59,
   "metadata": {},
   "outputs": [],
   "source": [
    "# モデルの訓練\n",
    "model.fit(X_train, y_train)\n",
    "\n",
    "# モデルの予測\n",
    "y_pred = model.predict(X_val)\n",
    "\n",
    "# モデルの評価\n",
    "mse = mean_squared_error(y_val, y_pred)\n",
    "rmse = np.sqrt(mse)"
   ]
  },
  {
   "cell_type": "code",
   "execution_count": 60,
   "metadata": {},
   "outputs": [
    {
     "name": "stdout",
     "output_type": "stream",
     "text": [
      "validate RMSE 4546.009604240493\n"
     ]
    }
   ],
   "source": [
    "print('validate RMSE', rmse)"
   ]
  },
  {
   "cell_type": "code",
   "execution_count": 61,
   "metadata": {},
   "outputs": [],
   "source": [
    "error = y_pred - y_val\n",
    "abs_error = abs(error)\n",
    "\n",
    "abs_error = abs_error.sort_values()"
   ]
  },
  {
   "cell_type": "code",
   "execution_count": 62,
   "metadata": {},
   "outputs": [
    {
     "data": {
      "text/html": [
       "<div>\n",
       "<style scoped>\n",
       "    .dataframe tbody tr th:only-of-type {\n",
       "        vertical-align: middle;\n",
       "    }\n",
       "\n",
       "    .dataframe tbody tr th {\n",
       "        vertical-align: top;\n",
       "    }\n",
       "\n",
       "    .dataframe thead th {\n",
       "        text-align: right;\n",
       "    }\n",
       "</style>\n",
       "<table border=\"1\" class=\"dataframe\">\n",
       "  <thead>\n",
       "    <tr style=\"text-align: right;\">\n",
       "      <th></th>\n",
       "      <th>section</th>\n",
       "      <th>round</th>\n",
       "      <th>home_team</th>\n",
       "      <th>away_team</th>\n",
       "      <th>venue</th>\n",
       "      <th>weather</th>\n",
       "      <th>temperature</th>\n",
       "      <th>humidity</th>\n",
       "      <th>broadcasters</th>\n",
       "      <th>month</th>\n",
       "      <th>day</th>\n",
       "      <th>kick_off_hour</th>\n",
       "    </tr>\n",
       "  </thead>\n",
       "  <tbody>\n",
       "    <tr>\n",
       "      <th>0</th>\n",
       "      <td>第1節</td>\n",
       "      <td>第1日</td>\n",
       "      <td>鳥栖</td>\n",
       "      <td>神戸</td>\n",
       "      <td>ベストアメニティスタジアム</td>\n",
       "      <td>晴</td>\n",
       "      <td>6.6</td>\n",
       "      <td>57</td>\n",
       "      <td>DAZN</td>\n",
       "      <td>2</td>\n",
       "      <td>23</td>\n",
       "      <td>20</td>\n",
       "    </tr>\n",
       "    <tr>\n",
       "      <th>1</th>\n",
       "      <td>第1節</td>\n",
       "      <td>第2日</td>\n",
       "      <td>FC東京</td>\n",
       "      <td>浦和</td>\n",
       "      <td>味の素スタジアム</td>\n",
       "      <td>晴</td>\n",
       "      <td>14.1</td>\n",
       "      <td>40</td>\n",
       "      <td>DAZN/NHK BS1/TOKYO MX(録)</td>\n",
       "      <td>2</td>\n",
       "      <td>24</td>\n",
       "      <td>14</td>\n",
       "    </tr>\n",
       "    <tr>\n",
       "      <th>2</th>\n",
       "      <td>第1節</td>\n",
       "      <td>第2日</td>\n",
       "      <td>広島</td>\n",
       "      <td>札幌</td>\n",
       "      <td>エディオンスタジアム広島</td>\n",
       "      <td>晴</td>\n",
       "      <td>16.3</td>\n",
       "      <td>51</td>\n",
       "      <td>DAZN/NHK広島/NHK札幌</td>\n",
       "      <td>2</td>\n",
       "      <td>24</td>\n",
       "      <td>14</td>\n",
       "    </tr>\n",
       "    <tr>\n",
       "      <th>3</th>\n",
       "      <td>第1節</td>\n",
       "      <td>第2日</td>\n",
       "      <td>Ｇ大阪</td>\n",
       "      <td>名古屋</td>\n",
       "      <td>パナソニック スタジアム 吹田</td>\n",
       "      <td>曇</td>\n",
       "      <td>12.9</td>\n",
       "      <td>42</td>\n",
       "      <td>DAZN</td>\n",
       "      <td>2</td>\n",
       "      <td>24</td>\n",
       "      <td>14</td>\n",
       "    </tr>\n",
       "    <tr>\n",
       "      <th>4</th>\n",
       "      <td>第1節</td>\n",
       "      <td>第2日</td>\n",
       "      <td>湘南</td>\n",
       "      <td>長崎</td>\n",
       "      <td>Shonan BMW スタジアム平塚</td>\n",
       "      <td>晴</td>\n",
       "      <td>13.8</td>\n",
       "      <td>50</td>\n",
       "      <td>DAZN</td>\n",
       "      <td>2</td>\n",
       "      <td>24</td>\n",
       "      <td>16</td>\n",
       "    </tr>\n",
       "  </tbody>\n",
       "</table>\n",
       "</div>"
      ],
      "text/plain": [
       "  section round home_team away_team               venue weather  temperature  \\\n",
       "0     第1節   第1日        鳥栖        神戸       ベストアメニティスタジアム       晴          6.6   \n",
       "1     第1節   第2日      FC東京        浦和            味の素スタジアム       晴         14.1   \n",
       "2     第1節   第2日        広島        札幌        エディオンスタジアム広島       晴         16.3   \n",
       "3     第1節   第2日       Ｇ大阪       名古屋     パナソニック スタジアム 吹田       曇         12.9   \n",
       "4     第1節   第2日        湘南        長崎  Shonan BMW スタジアム平塚       晴         13.8   \n",
       "\n",
       "   humidity              broadcasters  month  day  kick_off_hour  \n",
       "0        57                      DAZN      2   23             20  \n",
       "1        40  DAZN/NHK BS1/TOKYO MX(録)      2   24             14  \n",
       "2        51          DAZN/NHK広島/NHK札幌      2   24             14  \n",
       "3        42                      DAZN      2   24             14  \n",
       "4        50                      DAZN      2   24             16  "
      ]
     },
     "execution_count": 62,
     "metadata": {},
     "output_type": "execute_result"
    }
   ],
   "source": [
    "test_data['match_date'] = pd.to_datetime(test_data['match_date'])\n",
    "test_data = process_match_data(test_data)\n",
    "test_features = ['section', 'round', 'home_team', 'away_team', 'venue', 'weather', 'temperature', 'humidity', 'broadcasters', 'month', 'day', 'kick_off_hour']\n",
    "X_test = test_data[features]\n",
    "# match_dateをdatetime型に変換\n",
    "X_test.head()\n"
   ]
  },
  {
   "cell_type": "code",
   "execution_count": 63,
   "metadata": {},
   "outputs": [],
   "source": [
    "# モデルの予測\n",
    "y_test = model.predict(X_test)"
   ]
  },
  {
   "cell_type": "code",
   "execution_count": 64,
   "metadata": {},
   "outputs": [],
   "source": [
    "# 予測結果をデータフレームにする\n",
    "results = pd.DataFrame({'id': test_data['id'], 'prediction': y_test})\n",
    "results.to_csv('outputs/submission.csv', index=False, header=False)"
   ]
  }
 ],
 "metadata": {
  "kernelspec": {
   "display_name": ".env",
   "language": "python",
   "name": "python3"
  },
  "language_info": {
   "codemirror_mode": {
    "name": "ipython",
    "version": 3
   },
   "file_extension": ".py",
   "mimetype": "text/x-python",
   "name": "python",
   "nbconvert_exporter": "python",
   "pygments_lexer": "ipython3",
   "version": "3.12.3"
  }
 },
 "nbformat": 4,
 "nbformat_minor": 2
}
